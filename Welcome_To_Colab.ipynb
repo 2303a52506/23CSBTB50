{
  "cells": [
    {
      "cell_type": "markdown",
      "metadata": {
        "id": "view-in-github",
        "colab_type": "text"
      },
      "source": [
        "<a href=\"https://colab.research.google.com/github/2303a52506/23CSBTB50/blob/main/Welcome_To_Colab.ipynb\" target=\"_parent\"><img src=\"https://colab.research.google.com/assets/colab-badge.svg\" alt=\"Open In Colab\"/></a>"
      ]
    },
    {
      "cell_type": "code",
      "source": [
        "from collections import defaultdict,Counter,defaultdict\n",
        "import random\n",
        "from functools import partial,reduce\n",
        "import math\n",
        "import functools\n",
        "cache = functools.lru_cache(10**6)"
      ],
      "metadata": {
        "id": "_5rN_TFx-22f"
      },
      "execution_count": 12,
      "outputs": []
    },
    {
      "cell_type": "code",
      "source": [
        "class Game:\n",
        "    def actions(self, state ):\n",
        "        raise NotImplementedError\n",
        "        def result(self, state , move ):\n",
        "          raise NotImplementedError\n",
        "        def is_terminal (self, state ):\n",
        "          return not self.actions(state)\n",
        "          def utility(self, state , player ):\n",
        "            raise NotImplementedError\n",
        "            def play_game (game , strategies : dict , verbose=False ):\n",
        "              state = game.initial\n",
        "              while not game.terminal (state ):\n",
        "                player = state. to_move\n",
        "                move = strategies [player ](game , state)\n",
        "                state = game.result(state , move)\n",
        "                if verbose:\n",
        "                    print('Player', player , 'move:', move)\n",
        "                    print(state)\n",
        "                    return state.utility(player)"
      ],
      "metadata": {
        "id": "xUjsuNcy_ARd"
      },
      "execution_count": 13,
      "outputs": []
    },
    {
      "cell_type": "code",
      "source": [
        "def minimax_search (game , state ):\n",
        "  player = state. to_move\n",
        "  def max_value (state ):\n",
        "    if game. is_terminal (state ):\n",
        "      return game.utility(state , player), None\n",
        "      v, move = -infinity , None\n",
        "      for a in game.actions(state ):\n",
        "        v2 , = min_value (game.result(state , a))\n",
        "        if v2 > v:\n",
        "          v, move = v2 , a\n",
        "          return v, move\n",
        "          def min_value (state ):\n",
        "            if game. is_terminal (state ):\n",
        "              return game.utility(state , player), None\n",
        "              v, move = +infinity , None\n",
        "              for a in game.actions(state ):\n",
        "                v2 , = max_value (game.result(state , a))\n",
        "                if v2 < v:\n",
        "                  v, move = v2 , a\n",
        "                  return v, move\n",
        "                  return max_value (state)\n",
        "                  infinity = math.inf"
      ],
      "metadata": {
        "id": "_9sswJVP_M39"
      },
      "execution_count": 15,
      "outputs": []
    },
    {
      "cell_type": "code",
      "source": [
        "def alphabetasearch (game , state ):\n",
        "  player = state. tomove\n",
        "  def maxvalue (state , alpha , beta ):\n",
        "    if gameis_terminal (state ):\n",
        "      return game.utility(state , player), None\n",
        "      v, move = infinity , None\n",
        "      for a in game.actions(state ):\n",
        "        v2 , = minvalue (game.result(state , a), alpha , beta)\n",
        "        if v2 > v:\n",
        "          v, move = v2 , a\n",
        "          alpha = max(alpha , v)\n",
        "          if v >= beta:\n",
        "            return v, move\n",
        "            return v, move\n",
        "            def minvalue (state , alpha , beta ):\n",
        "              if gameis_terminal (state ):\n",
        "                return game.utility(state , player), None\n",
        "                v, move = infinity , None\n",
        "                for a in game.actions(state ):\n",
        "                  v2 , = maxvalue (game.result(state , a), alpha , beta)\n",
        "                  if v2 < v:\n",
        "                    v, move = v2 , a\n",
        "                    beta = min(beta , v)\n",
        "                    if v <= alpha:\n",
        "                      return v, move\n",
        "                      return v, move\n",
        "                      return maxvalue (state , infinity , infinity )"
      ],
      "metadata": {
        "id": "8-Cc2rOP_dK1"
      },
      "execution_count": 17,
      "outputs": []
    },
    {
      "cell_type": "code",
      "source": [
        "class TicTacToe (Game ):\n",
        "  def int (self, height =3, width =3, k=3):\n",
        "    self.k = k # k in a row\n",
        "    self.squares = {(x, y) for x in range(width) for y in range(height)}\n",
        "    self.initial = Board(height=height , width=width , tomove =X, utility =0)\n",
        "    def actions(self, board ):\n",
        "      return self.squaresset(board)\n",
        "      def result(self, board , square ):\n",
        "        player = board. tomove\n",
        "        board = board.new ((square , player), tomove =(O if player ==X else X))\n",
        "        win = k in row (board , player , square , self.k)\n",
        "        board.utility = (0 if not win else +1 if player == X else 1)\n",
        "        return board\n",
        "        def utility(self, board , player ):\n",
        "          return board.utility if player == X else board.utility\n",
        "          def is_terminal (self, board ):\n",
        "            return board.utility != 0 or len(self.squares) == len(board)\n",
        "            def display(self, board ): print(board)\n",
        "            def kinrow (board , player , square , k):\n",
        "              def in_row (x, y, dx , dy):\n",
        "                return 0 if board[x, y] != player else 1 + in_row (x + dx , y + dy , dx , dy)\n",
        "                return any( in_row(square , dx , dy) + in_row(square , dx , dy ,1>=k))\n",
        ""
      ],
      "metadata": {
        "id": "hltaU9cCAmpm"
      },
      "execution_count": 24,
      "outputs": []
    },
    {
      "cell_type": "code",
      "source": [
        "class Board(defaultdict):\n",
        "    \"\"\"A board has the player to move, a cached utility value,\n",
        "    and a dict of {(x, y): player} entries, where player is 'X' or 'O'.\"\"\"\n",
        "    empty = '.'\n",
        "    off = '#'\n",
        "\n",
        "    def __init__(self, width=8, height=8, to_move=None, **kwds):\n",
        "        self.__dict__.update(width=width, height=height, to_move=to_move, **kwds)\n",
        "\n",
        "    def new(self, changes: dict, **kwds) -> 'Board':\n",
        "        \"Given a dict of {(x, y): contents} changes, return a new Board with the changes.\"\n",
        "        board = Board(width=self.width, height=self.height, **kwds)\n",
        "        board.update(self)\n",
        "        board.update(changes)\n",
        "        return board\n",
        "\n",
        "    def __missing__(self, loc):\n",
        "        x, y = loc\n",
        "        if 0 <= x < self.width and 0 <= y < self.height:\n",
        "            return self.empty\n",
        "        else:\n",
        "            return self.off\n",
        "\n",
        "    def __hash__(self):\n",
        "        return hash(tuple(sorted(self.items()))) + hash(self.to_move)\n",
        "\n",
        "    def __repr__(self):\n",
        "        def row(y): return ' '.join(self[x, y] for x in range(self.width))\n",
        "        return '\\n'.join(map(row, range(self.height))) +  '\\n'"
      ],
      "metadata": {
        "id": "IbuxXjiyHOkl"
      },
      "execution_count": 46,
      "outputs": []
    },
    {
      "cell_type": "code",
      "source": [
        "def  randomplayer (game , state ): return random.choice(list(game.actions(state )))\n",
        "def player( searchalgorithm ):\n",
        "  return lambda game , state: searchalgorithm (game , state )[1]"
      ],
      "metadata": {
        "id": "JTVavcuMEoz2"
      },
      "execution_count": 30,
      "outputs": []
    }
  ],
  "metadata": {
    "colab": {
      "name": "Welcome To Colab",
      "toc_visible": true,
      "provenance": [],
      "include_colab_link": true
    },
    "kernelspec": {
      "display_name": "Python 3",
      "name": "python3"
    }
  },
  "nbformat": 4,
  "nbformat_minor": 0
}